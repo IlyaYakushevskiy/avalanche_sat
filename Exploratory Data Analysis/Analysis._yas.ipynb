{
 "cells": [
  {
   "cell_type": "code",
   "execution_count": 7,
   "metadata": {},
   "outputs": [],
   "source": [
    "import pandas as pd\n",
    "import numpy as np\n",
    "from matplotlib import pyplot as plt\n",
    "import seaborn as sns\n",
    "import sys\n",
    "sys.path.append(r'C:\\Users\\Yasaman\\avalanche_sat\\scripts')\n",
    "import pickle"
   ]
  },
  {
   "cell_type": "code",
   "execution_count": 8,
   "metadata": {},
   "outputs": [],
   "source": [
    "from input_variables import process_smet_pro_forecast\n",
    "from smet import read_smet\n",
    "from read_profile import read_profile"
   ]
  },
  {
   "cell_type": "code",
   "execution_count": null,
   "metadata": {},
   "outputs": [],
   "source": [
    "\n",
    "\n",
    "#%%\n",
    "\n",
    "path_models = './scripts/RF_model_wetsnow/'\n",
    "\n",
    "model_2001_2022 = pickle.load(open(path_models+'rf_2001_2022.sav', 'rb'))\n",
    "features_model_2001_2022 = pd.read_csv(path_models+'rf_2001_2022.csv')\n",
    "features_model_2001_2022 = list(features_model_2001_2022.features)\n",
    "\n",
    "def run_rf_wet(df):\n",
    "    df = df[list(set(features_model_2001_2022+['elevation']))+['station_code','aspect','profile_time','datum']].dropna(0)\n",
    "    model_predicted_probability_2001_2022 = model_2001_2022.predict_proba(df[features_model_2001_2022])\n",
    "    df['probability_wet_AvD_model_2001_2022'] = model_predicted_probability_2001_2022[:,1]\n",
    "    return(df)\n",
    "    \n",
    "finput='./input/'\n",
    "station='WFJ2'\n",
    "smet = read_smet(finput+station+'.smet')\n",
    "profile_dic = read_profile(finput+station+'.pro')\n",
    "\n",
    "#%%\n",
    "start = '2021-11-01'\n",
    "til = '2022-06-01'\n",
    "d_list =  pd.date_range(start=start, end=til)\n",
    "\n",
    "#%%\n",
    "D = []\n",
    "for d in d_list:    \n",
    "    date_str = d.strftime('%Y-%m-%d %H:%M:%S')\n",
    "    try:\n",
    "        data = process_smet_pro_forecast(smet,profile_dic,date_str,station)\n",
    "    except:\n",
    "        continue\n",
    "    D = D + [data]\n",
    "df = pd.concat(D)\n",
    "#%%\n",
    "df = run_rf_wet(df)\n",
    "\n",
    "#%%\n",
    "fout = './output/'\n",
    "df.to_csv(fout+'/'+station+'.csv')\n"
   ]
  }
 ],
 "metadata": {
  "kernelspec": {
   "display_name": "base",
   "language": "python",
   "name": "python3"
  },
  "language_info": {
   "codemirror_mode": {
    "name": "ipython",
    "version": 3
   },
   "file_extension": ".py",
   "mimetype": "text/x-python",
   "name": "python",
   "nbconvert_exporter": "python",
   "pygments_lexer": "ipython3",
   "version": "3.11.10"
  }
 },
 "nbformat": 4,
 "nbformat_minor": 2
}
