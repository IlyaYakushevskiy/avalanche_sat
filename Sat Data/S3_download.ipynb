{
 "cells": [
  {
   "cell_type": "code",
   "execution_count": 20,
   "metadata": {},
   "outputs": [],
   "source": [
    "import os\n",
    "import json\n",
    "import requests\n",
    "import boto3\n",
    "from tqdm import tqdm\n",
    "import time\n",
    "import argparse"
   ]
  },
  {
   "cell_type": "code",
   "execution_count": 21,
   "metadata": {},
   "outputs": [],
   "source": [
    "username = 'illia.yakushevskyi@uzh.ch' \n",
    "password = os.getenv(\"MY_API_PASSWORD\")\n",
    "product_name = 'S1A_IW_GRDH_1SDV_20250404T172343_20250404T172408_058610_07414D_31B0.SAFE'"
   ]
  },
  {
   "cell_type": "code",
   "execution_count": 22,
   "metadata": {},
   "outputs": [],
   "source": [
    "config = {\n",
    "    \"auth_server_url\": \"https://identity.dataspace.copernicus.eu/auth/realms/CDSE/protocol/openid-connect/token\",\n",
    "    \"odata_base_url\": \"https://catalogue.dataspace.copernicus.eu/odata/v1/Products\",\n",
    "    \"s3_endpoint_url\": \"https://eodata.dataspace.copernicus.eu\",\n",
    "}\n",
    "\n",
    "def get_access_token(config, username, password):\n",
    "    \"\"\"\n",
    "    Retrieve an access token from the authentication server.\n",
    "    This token is used for subsequent API calls.\n",
    "    \"\"\"\n",
    "    auth_data = {\n",
    "        \"client_id\": \"cdse-public\",\n",
    "        \"grant_type\": \"password\",\n",
    "        \"username\": username,\n",
    "        \"password\": password,\n",
    "    }\n",
    "    response = requests.post(config[\"auth_server_url\"], data=auth_data, verify=True, allow_redirects=False)\n",
    "    if response.status_code == 200:\n",
    "        return json.loads(response.text)[\"access_token\"]\n",
    "    else:\n",
    "        print(f\"Failed to retrieve access token. Status code: {response.status_code}\")\n",
    "        exit(1)\n",
    "\n",
    "def get_eo_product_details(config, headers, eo_product_name):\n",
    "    \"\"\"\n",
    "    Retrieve EO product details using the OData API to determine the S3 path.\n",
    "    \"\"\"\n",
    "    odata_url = f\"{config['odata_base_url']}?$filter=Name eq '{eo_product_name}'\"\n",
    "    response = requests.get(odata_url, headers=headers)\n",
    "    if response.status_code == 200:\n",
    "        eo_product_data = response.json()[\"value\"][0]\n",
    "        return eo_product_data[\"Id\"], eo_product_data[\"S3Path\"]\n",
    "    else:\n",
    "        print(f\"Failed to retrieve EO product details. Status code: {response.status_code}\")\n",
    "        exit(1)\n",
    "\n",
    "def get_temporary_s3_credentials(headers):\n",
    "    \"\"\"\n",
    "    Create temporary S3 credentials by calling the S3 keys manager API.\n",
    "    \"\"\"\n",
    "    credentials_response = requests.post(\"https://s3-keys-manager.cloudferro.com/api/user/credentials\", headers=headers)\n",
    "    if credentials_response.status_code == 200:\n",
    "        s3_credentials = credentials_response.json()\n",
    "        print(\"Temporary S3 credentials created successfully.\")\n",
    "        print(f\"access: {s3_credentials['access_id']}\")\n",
    "        print(f\"secret: {s3_credentials['secret']}\")\n",
    "        return s3_credentials\n",
    "    else:\n",
    "        print(f\"Failed to create temporary S3 credentials. Status code: {credentials_response.status_code}\")\n",
    "        print(\"Product download aborted.\")\n",
    "        exit(1)\n",
    "\n",
    "def format_filename(filename, length=40):\n",
    "    \"\"\"\n",
    "    Format a filename to a fixed length, truncating if necessary.\n",
    "    \"\"\"\n",
    "    if len(filename) > length:\n",
    "        return filename[:length - 3] + '...'\n",
    "    else:\n",
    "        return filename.ljust(length)\n",
    "\n",
    "def download_file_s3(s3, bucket_name, s3_key, local_path, failed_downloads):\n",
    "    \"\"\"\n",
    "    Download a file from S3 with a progress bar.\n",
    "    Track failed downloads in a list.\n",
    "    \"\"\"\n",
    "    try:\n",
    "        file_size = s3.head_object(Bucket=bucket_name, Key=s3_key)['ContentLength']\n",
    "        formatted_filename = format_filename(os.path.basename(local_path))\n",
    "        with tqdm(total=file_size, unit='B', unit_scale=True, desc=formatted_filename, ncols=80, bar_format='{desc:.40}|{bar:20}| {percentage:3.0f}% {n_fmt}/{total_fmt}B') as pbar:\n",
    "            def progress_callback(bytes_transferred):\n",
    "                pbar.update(bytes_transferred)\n",
    "\n",
    "            s3.download_file(bucket_name, s3_key, local_path, Callback=progress_callback)\n",
    "    except Exception as e:\n",
    "        print(f\"Failed to download {s3_key}. Error: {e}\")\n",
    "        failed_downloads.append(s3_key)\n",
    "\n",
    "def traverse_and_download_s3(s3_resource, bucket_name, base_s3_path, local_path, failed_downloads):\n",
    "    \"\"\"\n",
    "    Traverse the S3 bucket and download all files under the specified prefix.\n",
    "    \"\"\"\n",
    "    bucket = s3_resource.Bucket(bucket_name)\n",
    "    files = bucket.objects.filter(Prefix=base_s3_path)\n",
    "\n",
    "    for obj in files:\n",
    "        s3_key = obj.key\n",
    "        relative_path = os.path.relpath(s3_key, base_s3_path)\n",
    "        local_path_file = os.path.join(local_path, relative_path)\n",
    "        local_dir = os.path.dirname(local_path_file)\n",
    "        os.makedirs(local_dir, exist_ok=True)\n",
    "        download_file_s3(s3_resource.meta.client, bucket_name, s3_key, local_path_file, failed_downloads)"
   ]
  },
  {
   "cell_type": "code",
   "execution_count": 23,
   "metadata": {},
   "outputs": [
    {
     "data": {
      "text/plain": [
       "'eyJhbGciOiJSUzI1NiIsInR5cCIgOiAiSldUIiwia2lkIiA6ICJYVUh3VWZKaHVDVWo0X3k4ZF8xM0hxWXBYMFdwdDd2anhob2FPLUxzREZFIn0.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.PMxbrpcw_K-6hJQSZO4DS9x2DxI3oeE9KYAwYIfUBNs3xqF7ZhlY6U7IIEwW7_d051-4uinMlio2WtNey0Dghhg_cCoiG2z-SI6u__1YlQfG3By1YqlRcUNGu1ftamzLXC4IO5LpgqOKXPN33TRyOGmPRlD3N8SenzUStC0yBkYKf48f8CWu4jT3XfLv-2s-EYsMqojJybNG_hkwziwJtoR5DhwldTgmYt0y-Oki5fU828N06u8zDqnImV-5EwMiXlOo0rYE1fa0n7_iT4ViUrO6lO5H6YQ3Agj9Ii3_HWlIBc3Nkp8VH6oPacSqQAsiL3HNSWFsB4uKcJyeUxvRUQ'"
      ]
     },
     "execution_count": 23,
     "metadata": {},
     "output_type": "execute_result"
    }
   ],
   "source": [
    "access_token = get_access_token(config, username, password)\n",
    "access_token"
   ]
  },
  {
   "cell_type": "code",
   "execution_count": 24,
   "metadata": {},
   "outputs": [],
   "source": [
    "access_token = get_access_token(config, username, password)\n",
    "\n",
    "headers = {\n",
    "    \"Authorization\": f\"Bearer {access_token}\",\n",
    "    \"Accept\": \"application/json\"\n",
    "}\n",
    "\n",
    " # Step 3: Get EO product details (including S3 path)\n",
    "eo_product_id, s3_path = get_eo_product_details(config, headers, product_name)\n",
    "bucket_name, base_s3_path = s3_path.lstrip('/').split('/', 1)"
   ]
  },
  {
   "cell_type": "code",
   "execution_count": null,
   "metadata": {},
   "outputs": [],
   "source": []
  }
 ],
 "metadata": {
  "kernelspec": {
   "display_name": "Python 3",
   "language": "python",
   "name": "python3"
  },
  "language_info": {
   "codemirror_mode": {
    "name": "ipython",
    "version": 3
   },
   "file_extension": ".py",
   "mimetype": "text/x-python",
   "name": "python",
   "nbconvert_exporter": "python",
   "pygments_lexer": "ipython3",
   "version": "3.12.0"
  }
 },
 "nbformat": 4,
 "nbformat_minor": 2
}
